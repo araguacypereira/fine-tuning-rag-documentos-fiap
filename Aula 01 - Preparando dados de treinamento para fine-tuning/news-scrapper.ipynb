{
  "cells": [
    {
      "cell_type": "code",
      "execution_count": 3,
      "metadata": {
        "colab": {
          "base_uri": "https://localhost:8080/"
        },
        "id": "xMijuVjl1_2X",
        "outputId": "74fea80f-420d-4108-cf76-b784c2cc5316"
      },
      "outputs": [
        {
          "output_type": "stream",
          "name": "stdout",
          "text": [
            "Drive already mounted at /content/drive; to attempt to forcibly remount, call drive.mount(\"/content/drive\", force_remount=True).\n"
          ]
        }
      ],
      "source": [
        "#Conexão com o Google Drive\n",
        "\n",
        "from google.colab import drive\n",
        "drive.mount('/content/drive')"
      ]
    },
    {
      "cell_type": "code",
      "execution_count": 4,
      "metadata": {
        "id": "qpUkpvTw2FsX"
      },
      "outputs": [],
      "source": [
        "#Importar bibliotecas\n",
        "import requests\n",
        "from bs4 import BeautifulSoup"
      ]
    },
    {
      "cell_type": "code",
      "source": [
        "def scrape_cnn_links(url):\n",
        "    response = requests.get(url)\n",
        "\n",
        "    # Se a request tiver retorno com sucesso\n",
        "    if response.status_code == 200:\n",
        "        # Parsing do conteúdo da página\n",
        "        soup = BeautifulSoup(response.text, 'html.parser')\n",
        "\n",
        "        valid_links = []\n",
        "\n",
        "        # Encontrar os links de notícias\n",
        "        for a in soup.find_all('a', href=True):\n",
        "            href = a['href']\n",
        "            # Checagem se o link encontrado é um documento HTML\n",
        "            if href.startswith('/') : #and href.endswith('.html') :\n",
        "                # Concatenar com a URL padrão do site\n",
        "                full_link = f\"https://www.cnn.com{href}\"\n",
        "                valid_links.append(full_link)\n",
        "\n",
        "                print(f\"Valid link: {full_link}\")\n",
        "            else: pass\n",
        "\n",
        "        return valid_links\n",
        "    else:\n",
        "        return f\"Falha ao extrair o conteúdo da notícia: {response.status_code}\""
      ],
      "metadata": {
        "id": "NBBjh43uF0Ef"
      },
      "execution_count": 40,
      "outputs": []
    },
    {
      "cell_type": "code",
      "execution_count": 45,
      "metadata": {
        "id": "9VRX_63j2F7u",
        "colab": {
          "base_uri": "https://localhost:8080/"
        },
        "outputId": "a4c13229-87fc-4074-e469-07eab81b2597"
      },
      "outputs": [
        {
          "output_type": "stream",
          "name": "stdout",
          "text": [
            "Valid link: https://www.cnn.com/account/settings\n",
            "Valid link: https://www.cnn.com/newsletters\n",
            "Valid link: https://www.cnn.com/follow?iid=fw_var-nav\n",
            "Valid link: https://www.cnn.com/account/settings\n",
            "Valid link: https://www.cnn.com/newsletters\n",
            "Valid link: https://www.cnn.com/follow?iid=fw_var-nav\n",
            "Valid link: https://www.cnn.com/2025/09/03/europe/lisbon-funicular-crash-latam-intl\n",
            "Valid link: https://www.cnn.com/2025/09/03/europe/lisbon-funicular-crash-latam-intl\n",
            "Valid link: https://www.cnn.com/2025/09/03/americas/trinidad-tobago-caribbean-us-venezuela-strike-intl-latam\n",
            "Valid link: https://www.cnn.com/world/live-news/china-military-parade-xi-jinping-09-03-25-intl-hnk\n",
            "Valid link: https://www.cnn.com/2025/09/03/china/china-military-parade-authoritarian-leaders-intl-hnk\n",
            "Valid link: https://www.cnn.com/2025/09/03/asia/xi-putin-chat-immortality-longevity-intl\n",
            "Valid link: https://www.cnn.com/2025/09/03/middleeast/uae-israel-abraham-accords-trump-netanyahu-intl\n",
            "Valid link: https://www.cnn.com/2025/09/02/americas/cuba-deportees-us-ice-intl-latam\n",
            "Valid link: https://www.cnn.com/2025/09/02/americas/cuba-deportees-us-ice-intl-latam\n",
            "Valid link: https://www.cnn.com/world/russia-drone-attacks-ukraine-war-intl-vis\n",
            "Valid link: https://www.cnn.com/world/middleeast/countries-recognize-palestinian-state-intl-vis\n",
            "Valid link: https://www.cnn.com/2025/09/02/europe/depardieu-france-rape-trial-intl\n",
            "Valid link: https://www.cnn.com/2025/09/02/americas/bolsonaro-trial-explained-intl-latam\n",
            "Valid link: https://www.cnn.com/2025/09/01/asia/kim-jong-un-green-train-north-korea-beijing-intl-hnk\n",
            "Valid link: https://www.cnn.com/2025/09/02/asia/afghanistan-earthquake-taliban-us-intl-hnk\n",
            "Valid link: https://www.cnn.com/2025/09/01/americas/guyana-elections-oil-venezuela-china-intl-latam\n",
            "Valid link: https://www.cnn.com/2025/09/01/americas/guyana-elections-oil-venezuela-china-intl-latam\n",
            "Valid link: https://www.cnn.com/2025/09/01/china/china-sco-summit-xi-address-intl-hnk\n",
            "Valid link: https://www.cnn.com/2025/09/01/china/china-sco-summit-xi-address-intl-hnk\n",
            "Valid link: https://www.cnn.com/2025/09/03/world/video/china-military-parade-weapons-raska-intv-ctw-090310aseg1-cnni-world-fast\n",
            "Valid link: https://www.cnn.com/2025/09/03/world/video/china-military-parade-weapons-raska-intv-ctw-090310aseg1-cnni-world-fast\n",
            "Valid link: https://www.cnn.com/2025/09/03/world/video/premier-league-record-transfers-grez-live-ctw-090210aseg2-cnni-sport-fast1\n",
            "Valid link: https://www.cnn.com/2025/09/03/world/video/premier-league-record-transfers-grez-live-ctw-090210aseg2-cnni-sport-fast1\n",
            "Valid link: https://www.cnn.com/2025/09/03/world/video/maduro-xi-jinping-phone-ldndigvid\n",
            "Valid link: https://www.cnn.com/2025/09/03/world/video/maduro-xi-jinping-phone-ldndigvid\n",
            "Valid link: https://www.cnn.com/2025/09/03/world/video/kim-jong-un-dna-chair-digvid-ldn\n",
            "Valid link: https://www.cnn.com/2025/09/03/world/video/kim-jong-un-dna-chair-digvid-ldn\n",
            "Valid link: https://www.cnn.com/2025/09/02/europe/andriy-parubiy-ukraine-shooting-suspect-intl\n",
            "Valid link: https://www.cnn.com/2025/09/02/europe/andriy-parubiy-ukraine-shooting-suspect-intl\n",
            "Valid link: https://www.cnn.com/2025/09/01/uk/queen-camilla-assault-claims-scli-intl-gbr\n",
            "Valid link: https://www.cnn.com/2025/08/31/europe/norway-british-frigates-deal-latam-intl\n",
            "Valid link: https://www.cnn.com/2025/08/31/europe/gaza-flotilla-israel-blockade-gaza-latam-intl\n",
            "Valid link: https://www.cnn.com/2025/08/30/europe/redhead-festival-dutch-latam-intl\n",
            "Valid link: https://www.cnn.com/2025/08/30/europe/ukrainian-lawmaker-killed-lviv-intl\n",
            "Valid link: https://www.cnn.com/2025/09/02/middleeast/netanyahu-israel-military-rift-gaza-city-intl\n",
            "Valid link: https://www.cnn.com/2025/09/02/middleeast/netanyahu-israel-military-rift-gaza-city-intl\n",
            "Valid link: https://www.cnn.com/2025/09/01/middleeast/israel-west-bank-annexation-palestinian-state-intl\n",
            "Valid link: https://www.cnn.com/2025/08/31/middleeast/media-protest-israel-killing-journalists-gaza-intl\n",
            "Valid link: https://www.cnn.com/2025/08/31/middleeast/houthis-un-building-yemen-israel-intl\n",
            "Valid link: https://www.cnn.com/2025/08/30/middleeast/airdrops-israel-halt-evacuation-gaza-city-intl\n",
            "Valid link: https://www.cnn.com/2025/08/30/middleeast/yemen-houthis-prime-minister-israel-intl\n",
            "Valid link: https://www.cnn.com/2025/09/03/world/gallery/in-pictures-chinas-80th-victory-day-parade\n",
            "Valid link: https://www.cnn.com/2025/09/03/world/gallery/in-pictures-chinas-80th-victory-day-parade\n",
            "Valid link: https://www.cnn.com/2025/01/13/world/gallery/people-we-lost-2025\n",
            "Valid link: https://www.cnn.com/2025/01/13/world/gallery/people-we-lost-2025\n",
            "Valid link: https://www.cnn.com/2025/08/28/world/gallery/photos-this-week-august-21-august-28\n",
            "Valid link: https://www.cnn.com/2025/08/28/world/gallery/photos-this-week-august-21-august-28\n",
            "Valid link: https://www.cnn.com/2025/08/21/world/gallery/photos-this-week-august-14-august-21\n",
            "Valid link: https://www.cnn.com/2025/08/21/world/gallery/photos-this-week-august-14-august-21\n",
            "Valid link: https://www.cnn.com/world/africa/ralph-ziman-mig-21-weapons-of-mass-production-spc\n",
            "Valid link: https://www.cnn.com/world/africa/ralph-ziman-mig-21-weapons-of-mass-production-spc\n",
            "Valid link: https://www.cnn.com/2025/09/02/africa/burkina-faso-outlaws-lgbtq-practices-intl\n",
            "Valid link: https://www.cnn.com/2025/09/01/africa/western-sudan-landslide-marra-mountains-latam-intl\n",
            "Valid link: https://www.cnn.com/world/africa/rwanda-deportees-us-august-latam-intl\n",
            "Valid link: https://www.cnn.com/2025/09/02/americas/mexico-quinceanera-viral-birthday-party-teen-latam-intl\n",
            "Valid link: https://www.cnn.com/2025/09/02/americas/mexico-quinceanera-viral-birthday-party-teen-latam-intl\n",
            "Valid link: https://www.cnn.com/2025/09/01/americas/trump-venezuela-maduro-drug-threat-analysis-intl-latam\n",
            "Valid link: https://www.cnn.com/2025/08/29/americas/guantanamo-venezuela-migrants-detained-hrw-intl-latam\n",
            "Valid link: https://www.cnn.com/2025/08/29/americas/jewish-woman-stabbed-canada-hate-crime-latam-intl\n",
            "Valid link: https://www.cnn.com/2025/09/01/asia/indonesia-protests-explainer-intl-hnk\n",
            "Valid link: https://www.cnn.com/2025/09/01/asia/indonesia-protests-explainer-intl-hnk\n",
            "Valid link: https://www.cnn.com/2025/09/01/asia/aid-afghanistan-earthquake-victims-iyw\n",
            "Valid link: https://www.cnn.com/2025/08/31/asia/afghanistan-earthquake-killed-injured-latam-intl\n",
            "Valid link: https://www.cnn.com/2025/09/01/asia/north-korea-kim-jong-un-missile-inspection-intl-hnk\n",
            "Valid link: https://www.cnn.com/cnn-underscored/travel/suri-s2-toothbrush-launch\n",
            "Valid link: https://www.cnn.com/cnn-underscored/travel/suri-s2-toothbrush-launch\n",
            "Valid link: https://www.cnn.com/travel/hagia-sophia-istanbul-history-secrets\n",
            "Valid link: https://www.cnn.com/2025/09/02/travel/pilot-father-surprises-daughter-airport\n",
            "Valid link: https://www.cnn.com/travel/north-korea-wonsan-kalma-tourism-intl-hnk-dst\n",
            "Valid link: https://www.cnn.com/travel/sugalabo-tokyo-invite-only-restaurant-spc\n",
            "Valid link: https://www.cnn.com/2025/08/29/style/the-best-looks-from-venice-film-festival-2025\n",
            "Valid link: https://www.cnn.com/2025/08/29/style/the-best-looks-from-venice-film-festival-2025\n",
            "Valid link: https://www.cnn.com/2025/09/02/style/vermeer-painting-and-its-mysterious-twin-go-on-show\n",
            "Valid link: https://www.cnn.com/2025/09/02/style/american-vogue-chloe-malle-anna-wintour\n",
            "Valid link: https://www.cnn.com/2025/09/01/style/amanda-seyfried-julia-roberts-venice-outfit\n",
            "Valid link: https://www.cnn.com/2025/09/01/style/sputniko-tech-ai-artist-japan-hnk-spc\n",
            "Valid link: https://www.cnn.com/2025/09/03/weather/california-wildfire-chinese-camp-mining-town-hnk\n",
            "Valid link: https://www.cnn.com/2025/09/03/weather/california-wildfire-chinese-camp-mining-town-hnk\n",
            "Valid link: https://www.cnn.com/weather/earthquakes-fast-facts\n",
            "Valid link: https://www.cnn.com/2025/08/27/weather/la-nina-winter-forecast-climate\n",
            "Valid link: https://www.cnn.com/2025/08/26/weather/phoenix-dust-storm-wind-damage-climate-hnk\n",
            "Valid link: https://www.cnn.com/2025/08/24/weather/wildfire-oregon-california-evacuate\n",
            "Valid link: https://www.cnn.com/2025/09/03/world/video/china-military-parade-watson-ldndigvid\n",
            "Valid link: https://www.cnn.com/2025/09/03/world/video/china-military-parade-watson-ldndigvid\n",
            "Valid link: https://www.cnn.com/2025/09/02/world/video/china-military-parade-weapons-drones-aircraft-missiles-digvid\n",
            "Valid link: https://www.cnn.com/2025/09/02/world/video/china-military-parade-weapons-drones-aircraft-missiles-digvid\n",
            "Valid link: https://www.cnn.com/2025/09/03/china/china-military-parade-analysis-intl-hnk-ml-dst\n",
            "Valid link: https://www.cnn.com/2025/09/03/china/china-military-parade-analysis-intl-hnk-ml-dst\n",
            "Valid link: https://www.cnn.com/2025/09/02/world/video/china-military-parade-xi-putin-kim-digvid\n",
            "Valid link: https://www.cnn.com/2025/09/02/world/video/china-military-parade-xi-putin-kim-digvid\n",
            "Valid link: https://www.cnn.com/2025/09/02/china/kim-jong-un-daughter-beijing-intl-hnk\n",
            "Valid link: https://www.cnn.com/2025/09/02/china/kim-jong-un-daughter-beijing-intl-hnk\n",
            "Valid link: https://www.cnn.com/2025/09/02/world/video/cuba-government-deport-refugee-flight-trump-oppmann-pkg-latam-intl\n",
            "Valid link: https://www.cnn.com/2025/09/02/world/video/cuba-government-deport-refugee-flight-trump-oppmann-pkg-latam-intl\n",
            "Valid link: https://www.cnn.com/2025/09/02/world/video/world-war-two-anniversary-end-veteran-elam-digvid\n",
            "Valid link: https://www.cnn.com/2025/09/02/world/video/world-war-two-anniversary-end-veteran-elam-digvid\n",
            "Valid link: https://www.cnn.com/2025/09/02/world/video/bolsonaro-trial-pozzebon-live-090209aseg1-cnni-world-fast\n",
            "Valid link: https://www.cnn.com/2025/09/02/world/video/bolsonaro-trial-pozzebon-live-090209aseg1-cnni-world-fast\n",
            "Valid link: https://www.cnn.com/2025/09/02/world/bolsonaro-verdict-brazil-election-conspiracy-trial-intl\n",
            "Valid link: https://www.cnn.com/2025/09/02/world/bolsonaro-verdict-brazil-election-conspiracy-trial-intl\n",
            "Valid link: https://www.cnn.com/2025/09/02/world/video/tiny-robot-millispinner-blood-clots-hnk-spc\n",
            "Valid link: https://www.cnn.com/2025/09/02/world/video/tiny-robot-millispinner-blood-clots-hnk-spc\n",
            "Valid link: https://www.cnn.com/2025/09/02/world/video/robot-snakes-tortoises-dgist-korea-hnk-spc\n",
            "Valid link: https://www.cnn.com/2025/09/02/world/video/robot-snakes-tortoises-dgist-korea-hnk-spc\n",
            "Valid link: https://www.cnn.com/2025/09/02/world/video/hawks-camera-backpack-oxford-hnk-spc\n",
            "Valid link: https://www.cnn.com/2025/09/02/world/video/hawks-camera-backpack-oxford-hnk-spc\n",
            "Valid link: https://www.cnn.com/style/wind-turbine-blade-made-tiny-home-hnk-spc\n",
            "Valid link: https://www.cnn.com/style/wind-turbine-blade-made-tiny-home-hnk-spc\n",
            "Valid link: https://www.cnn.com/2025/08/28/style/vietnam-architecture-climate-dfi\n",
            "Valid link: https://www.cnn.com/2025/08/15/style/citicorp-center-new-york-skyscraper\n",
            "Valid link: https://www.cnn.com/2025/07/16/style/singapore-marina-bay-sands-expansion\n",
            "Valid link: https://www.cnn.com/2025/07/03/style/lava-material-architecture-venice-biennale\n",
            "Valid link: https://www.cnn.com/2025/09/03/sport/cycling-vuelta-protesters-disrupt-race\n",
            "Valid link: https://www.cnn.com/2025/09/03/sport/cycling-vuelta-protesters-disrupt-race\n",
            "Valid link: https://www.cnn.com/2025/09/03/sport/nfl-super-bowl-taylor-swift-intl\n",
            "Valid link: https://www.cnn.com/2025/09/03/sport/tennis-us-open-venus-williams-fernandez-doubles\n",
            "Valid link: https://www.cnn.com/2025/09/03/sport/cycling-chris-froome-life-threatening-heart-injury-intl\n",
            "Valid link: https://www.cnn.com/2025/09/02/sport/tennis-us-open-sabalenka-vondrousova-walkover\n",
            "Valid link: https://www.cnn.com/2025/09/03/tech/google-antitrust-apple\n",
            "Valid link: https://www.cnn.com/2025/09/03/tech/google-antitrust-apple\n",
            "Valid link: https://www.cnn.com/2025/09/02/tech/google-antitrust-ruling-chrome-android\n",
            "Valid link: https://www.cnn.com/2025/09/02/tech/openai-chatgpt-parental-controls-safety\n",
            "Valid link: https://www.cnn.com/2025/09/02/tech/ai-endangered-language-preservation\n",
            "Valid link: https://www.cnn.com/2025/08/28/tech/computer-science-graduates-job-hunt-ai\n",
            "Valid link: https://www.cnn.com/account/settings\n",
            "Valid link: https://www.cnn.com/newsletters\n",
            "Valid link: https://www.cnn.com/follow?iid=fw_var-nav\n",
            "Valid link: https://www.cnn.com/account/settings\n",
            "Valid link: https://www.cnn.com/newsletters\n",
            "Valid link: https://www.cnn.com/follow?iid=fw_var-nav\n"
          ]
        }
      ],
      "source": [
        "# Definindo a URL padrão\n",
        "url = \"https://edition.cnn.com/world\"\n",
        "\n",
        "# Chama a função de scrap dos dados e salva as URLs em um arquivo\n",
        "links = scrape_cnn_links(url)\n",
        "\n",
        "drive_path = '/content/drive/MyDrive/Fiap (1)/CNN_Links.txt' # Substitua se quiser salvar em uma pasta específica\n",
        "\n",
        "with open(drive_path, 'w') as file:\n",
        "    for link in links:\n",
        "        file.write(link + '\\n')"
      ]
    },
    {
      "cell_type": "code",
      "source": [
        "links"
      ],
      "metadata": {
        "colab": {
          "base_uri": "https://localhost:8080/"
        },
        "id": "BRb27TLXEZ26",
        "outputId": "76014fc2-bd4a-4d64-cb02-54c24d52c49c"
      },
      "execution_count": 23,
      "outputs": [
        {
          "output_type": "execute_result",
          "data": {
            "text/plain": [
              "[]"
            ]
          },
          "metadata": {},
          "execution_count": 23
        }
      ]
    },
    {
      "cell_type": "code",
      "metadata": {
        "id": "2fb0297f"
      },
      "source": [
        "# Salva as URLs em um arquivo no Google Drive\n",
        "# Substitua 'Sua_Pasta' pelo nome da pasta no seu Google Drive onde deseja salvar o arquivo\n",
        "drive_path = '/content/drive/MyDrive/CNN_Links.txt' # Substitua se quiser salvar em uma pasta específica\n",
        "\n",
        "with open(drive_path, 'w') as file:\n",
        "    for link in links:\n",
        "        file.write(link + '\\n')\n",
        "\n",
        "print(f\"Arquivo salvo em: {drive_path}\")"
      ],
      "execution_count": null,
      "outputs": []
    }
  ],
  "metadata": {
    "colab": {
      "provenance": []
    },
    "kernelspec": {
      "display_name": "Python 3",
      "name": "python3"
    },
    "language_info": {
      "name": "python"
    }
  },
  "nbformat": 4,
  "nbformat_minor": 0
}