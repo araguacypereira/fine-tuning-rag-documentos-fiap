{
  "nbformat": 4,
  "nbformat_minor": 0,
  "metadata": {
    "colab": {
      "provenance": [],
      "machine_shape": "hm",
      "gpuType": "T4",
      "authorship_tag": "ABX9TyOHmu8R6JQl70y31+cTkxez"
    },
    "kernelspec": {
      "name": "python3",
      "display_name": "Python 3"
    },
    "language_info": {
      "name": "python"
    },
    "accelerator": "GPU"
  },
  "cells": [
    {
      "cell_type": "code",
      "source": [
        "!pip install langchain\n",
        "!pip install InstructorEmbedding\n",
        "!pip install sentence-transformers==2.2.2\n",
        "!pip install html2text\n",
        "!pip install langchain-community\n",
        "!pip install newspaper3k\n",
        "!pip install chromadb"
      ],
      "metadata": {
        "id": "9Pz9ve9bF8gY"
      },
      "execution_count": null,
      "outputs": []
    },
    {
      "cell_type": "code",
      "source": [
        "from google.colab import drive\n",
        "drive.mount('/content/drive')"
      ],
      "metadata": {
        "colab": {
          "base_uri": "https://localhost:8080/"
        },
        "id": "xt_iqhfiG3Fz",
        "executionInfo": {
          "status": "ok",
          "timestamp": 1715058755442,
          "user_tz": 180,
          "elapsed": 28856,
          "user": {
            "displayName": "Enrico Ferraz",
            "userId": "15178631077992699920"
          }
        },
        "outputId": "856a2706-8ebe-4459-ea13-0b6943a02b3f"
      },
      "execution_count": 1,
      "outputs": [
        {
          "output_type": "stream",
          "name": "stdout",
          "text": [
            "Mounted at /content/drive\n"
          ]
        }
      ]
    },
    {
      "cell_type": "code",
      "execution_count": 4,
      "metadata": {
        "id": "pkC72xZonxDq",
        "colab": {
          "base_uri": "https://localhost:8080/"
        },
        "executionInfo": {
          "status": "ok",
          "timestamp": 1715058898343,
          "user_tz": 180,
          "elapsed": 6303,
          "user": {
            "displayName": "Enrico Ferraz",
            "userId": "15178631077992699920"
          }
        },
        "outputId": "98d9fdd1-399c-4d4a-eaf9-5a07fcf3f7ae"
      },
      "outputs": [
        {
          "output_type": "stream",
          "name": "stderr",
          "text": [
            "/usr/local/lib/python3.10/dist-packages/InstructorEmbedding/instructor.py:7: TqdmExperimentalWarning: Using `tqdm.autonotebook.tqdm` in notebook mode. Use `tqdm.tqdm` instead to force console mode (e.g. in jupyter console)\n",
            "  from tqdm.autonotebook import trange\n"
          ]
        }
      ],
      "source": [
        "\n",
        "import os\n",
        "from langchain.vectorstores.chroma import Chroma\n",
        "from langchain.text_splitter import CharacterTextSplitter\n",
        "\n",
        "from langchain.chains import RetrievalQA\n",
        "from langchain.document_loaders import TextLoader\n",
        "from langchain_community.document_loaders import NewsURLLoader\n",
        "\n",
        "from InstructorEmbedding import INSTRUCTOR\n",
        "from langchain.embeddings import HuggingFaceInstructEmbeddings\n"
      ]
    },
    {
      "cell_type": "code",
      "source": [
        "with open(r\"/content/drive/MyDrive/Colab Notebooks/fine-tuning-fiap/Aula 03 - RAG para documentos/CNN_Links.txt\") as f:\n",
        "    urls = [link.replace(\"\\n\", \"\") for link in set(f.readlines())]\n",
        "\n",
        "loader = NewsURLLoader(urls=urls)\n",
        "data = loader.load()\n",
        "print(\"Primeira notícia: \", data[0])\n",
        "print(\"\\nSegunda notícia: \", data[1])\n"
      ],
      "metadata": {
        "colab": {
          "base_uri": "https://localhost:8080/"
        },
        "id": "6OdhL3p9F1Wn",
        "executionInfo": {
          "status": "ok",
          "timestamp": 1715058942956,
          "user_tz": 180,
          "elapsed": 39762,
          "user": {
            "displayName": "Enrico Ferraz",
            "userId": "15178631077992699920"
          }
        },
        "outputId": "8c3ba8f5-0b02-4615-cbd6-55fbfca6c5b7"
      },
      "execution_count": 5,
      "outputs": [
        {
          "output_type": "stream",
          "name": "stdout",
          "text": [
            "Primeira notícia:  page_content=\"CNN —\\n\\nColombia says it will break diplomatic relations with Israel on Thursday over its actions in Gaza.\\n\\nColombian President Gustavo Petro made the announcement at a rally in Bogotá’s Bolívar Square on Wednesday, describing the Israeli government’s handling of the war in Gaza as “genocidal.”\\n\\nIsrael launched its assault in the Palestinian territory following terror group Hamas’ attacks on October 7, which left more than 1,200 people dead and saw more than 250 taken hostage – many of whom remain in captivity today.\\n\\nNow nearing its eight month, Israel’s war in the isolated enclave has killed more than 34,000 people, according to the Palestinian health ministry.\\n\\nIsrael’s foreign minister, Israel Katz, condemned Colombia’s announcement and accused Petro of rewarding Hamas, which controls Gaza, saying he was siding with the “most despicable monsters known to humanity.” Katz also called Petro a “hate-filled, antisemitic president,” but said relations between both countries would remain warm despite the president’s actions.\\n\\nHamas said it “highly appreciated” Petro’s position, saying in a statement that it considered the decision “a victory for the sacrifices of our people and their just cause” and calling on other countries to follow suit.\\n\\nSouth Africa has previously accused Israel of violating international laws on genocide, telling the United Nations’ top court that Israel’s leadership was “intent on destroying the Palestinians in Gaza” – a case which Israel dismissed as “absurd blood libel.”\\n\\nThe International Court of Justice later ordered Israel to “take all measures” to prevent genocide but stopped short of ordering its government to halt the war.\\n\\nColombia's President Gustavo Petro at a rally in Bogota, Colombia, on May 1, 2024. Luisa Gonzalez/Reuters\\n\\nRegional neighbor Bolivia also cut diplomatic ties with Israel last year, citing “crimes against humanity committed against the Palestinian people” in the wake of Israel’s war with Hamas.\\n\\nThis is a developing story. More to come.\" metadata={'title': 'Colombia to break diplomatic ties with Israel over actions in Gaza', 'link': 'https://www.cnn.com/2024/05/01/world/colombia-breaks-diplomatic-ties-israel-intl-latam/index.html', 'authors': ['Stefano Pozzebon', 'Michael Rios', 'Ruba Alhenawi'], 'language': 'en', 'description': 'Colombian President Gustavo Petro says Israel’s actions are “genocidal.” Israel’s foreign minister responds by calling Petro a “hate-filled, antisemitic president.”', 'publish_date': datetime.datetime(2024, 5, 1, 0, 0)}\n",
            "\n",
            "Segunda notícia:  page_content=\"CNN —\\n\\nWhile many celebrity homes look less than lived-in, ranging from spotless minimal to ostentatiously palatial, actor Emma Roberts’ Hollywood Hills home is made for curling up with a good book — or several — with warm tones, comfortable couches, and antique curiosities in each room (also, a lagoon-style pool in the backyard for summer reads).\\n\\nRoberts, an actor who has become a mainstay of rom coms and campy horror — the latter, most recently with recurring roles in the anthology series “American Horror Story” — bought the home, which she shares with her three-year-old son Rhodes, in 2022 and hired the design firm Pierce & Ward to overhaul its interiors. In the May issue of Architectural Digest, she reveals the results of that makeover.\\n\\nFor Roberts, having a space that feels like home is a particular priority, she explained, as she moved often as a child. So when she saw the property listed as a rental on Instagram (it has been reported as a former residence of Minnie Driver), she inquired if she could purchase it instead.\\n\\n“I think I lived in 10 houses by the time I was 15 — so for me now, having a son, I wanted a place that felt really ours.” she told AD. “I have a picture of the day we moved in… I just remember feeling like we are exactly where we need to be.”\\n\\nThe designers told AD that they want the homes they design to look as if they've been lived in for decades. Michael P.H. Clifford/AD\\n\\nThe designers, Louisa Pierce and Emily Ward, with whom Roberts had previously worked, are known for down-to-earth spaces that mix bohemian, mid-century modern and rustic styles. Their clients have included Roberts’ “Madame Web” co-star Dakota Johnson as well as Kate Hudson and Leonardo DiCaprio.\\n\\n“We want a house to look like it’s been there for 50 years,” Pierce told AD in the cover story. “We never want a home to look new.”\\n\\nRoberts in her kitchen's dining area. She shares the home with her three-year-old son, Rhodes. AD\\n\\nWhile most of the pieces in Roberts' home are antique or designer, her open kitchen includes an affordable surprise. Michael P.H. Clifford/AD\\n\\nIn that spirit, much of Roberts’ furniture, art and decor is repurposed or reupholstered. In the living room, beneath a disco ball-like globe light, paperbacks are enclosed in living room cabinets while rarer books are openly displayed. Framed photographs of Debbie Harry and Joni Mitchell rest on wooden cabinets; elsewhere, one of Roberts’ most treasured artworks — a Julian Wasser portrait of Joan Didion in front of a Corvette — hangs on the wall.\\n\\nThough many pieces are courtesy of design studios or antique finds, Pierce and Ward don’t look down on more accessible commercial brands. Roberts recalled when she asked if her new kitchen island was custom-made, they laughed and said it was from Urban Outfitters.\\n\\nAs for a room for Rhodes, who is starting his own book collection, Roberts opted for a soothing wallpaper scene of flying ducks on the ceiling, above a lush forest-themed upholstered bed.\\n\\n“I remember as a kid, whatever’s on your wall and your ceiling is seared into your brain for the rest of your life,” Roberts explained. “So I wanted to make it extra cozy and fun, but not too overwhelming.”\" metadata={'title': 'Step inside Emma Roberts’ sumptuous LA home', 'link': 'https://www.cnn.com/2024/04/16/style/emma-roberts-la-home-architectural-digest/index.html', 'authors': ['Jacqui Palumbo'], 'language': 'en', 'description': 'While many celebrity homes look less than lived-in, actor Emma Roberts’ Hollywood Hills home is made for curling up with a good book — or several.', 'publish_date': datetime.datetime(2024, 4, 16, 0, 0)}\n"
          ]
        }
      ]
    },
    {
      "cell_type": "code",
      "source": [
        "instructor_embeddings = HuggingFaceInstructEmbeddings(model_name=\"hkunlp/instructor-xl\")"
      ],
      "metadata": {
        "colab": {
          "base_uri": "https://localhost:8080/",
          "height": 624,
          "referenced_widgets": [
            "9d903eea1ead4e9ab89e5bbb8847fbc7",
            "b2c51afacfda4bb98c30d38421ae3c5b",
            "e9c7eb8d0dad4e7ead7d46e214ba245e",
            "24cc35e754174c4aaf710309fce8e85c",
            "2fe1a2e350c940a5857d4eacab8a28db",
            "a3b4083c6a6449379d7f94cddb5ac234",
            "784c086148534243b725ec7b130770e5",
            "b9c51fa06bc344869e9112cc484765b5",
            "326bf522e6674d5b8d5d52692421a6b4",
            "aae066639f42441697c302d0e850e3a9",
            "eb4753a0db45492fb174de162b77e251",
            "b702517bf7934236b379980897689c12",
            "5733741c16ff40bea6a0fe0a13c8d4ab",
            "6489e45e152640c9aca265dfb7c3b387",
            "75dd900ba5454fd09d58f7ee88ce1d5a",
            "b550181bfff34443babdd21cfcf6bae2",
            "6e952bc173d9476481c67ea9436fde31",
            "56e0d00ded0a469a920a9ceb189bc053",
            "fc23e40bbcda45a3ae56c5c3368e2c89",
            "6c9a6f097eb24a5b8a97511206fe2ee3",
            "c67bcf268c1446e083fe837734cacfe5",
            "122ead5dc7ee4613ba5ff700b34efcba",
            "11eee28ac84c466d9b8699ee27a4e7c1",
            "c88057ae086f49aabfc54add1abf25a1",
            "e5f3cd94a2d746e5badc5488e48bb8fb",
            "ea6a57ffc772439d95e5f02609ecf09a",
            "359b34dfc3f14f2bbee90999f8d8e82f",
            "90d59304a32e47b7a2f262bb61a4672a",
            "b6f0b7d2571d4290bb4916156eedaeac",
            "7dab141b8297472db21b51a1f7ac0de4",
            "725f56b970454a4781144e0c37e4e579",
            "bc66c34dd269497aab4ded8ff90867b8",
            "0db4dfba5f3549f58d04ffc54c8ce66a",
            "662056e552a94979ab5659f3eef98109",
            "2fba7e6754b6445794fb0c9fb3b14b0b",
            "5f2d3a94ff7d470f89d190e10c9f21f5",
            "25fd9e2e660a45738bbfb6530ea24358",
            "1851e70d1bc24967a14dad3990e4ac52",
            "1be58993d5ee487daad28284ba89a6d3",
            "bc38740400714c3fa1332b1acccb6435",
            "84c8a6e1328b4e1e841877a9fa072d5b",
            "873f012f7a4a4727ab8afcdede5d2455",
            "f4976e4b0dde43c1b8c79620c3293044",
            "4600b58cdccd4e299c6b289049478553",
            "595b1a7338e14903a0a768aff4e7b600",
            "c563d89b09f74fb8aa6ccc46cd1e8605",
            "cc58cb4ef01b44f2895090a222c682e0",
            "49a641314a65459da1aeb83992384397",
            "31718f03c44441c68dc9ffb27a741f53",
            "4be50ad0409746b8aea0a5cfaba5024e",
            "9d92ac169d634770ba4fe30d370cc11a",
            "44d8b1cef15945fa9af268ef88af98a5",
            "81c877b6b8334c27829a5c69d5d54641",
            "943c4507daa34d15a8a1e63363520eb0",
            "9b369c5c7bfb49efbf703c8bbcc34157",
            "cab0252c70c94b8aaf83a7c761cd2a4d",
            "458acdabbabf4313951e32302b43f528",
            "d6288be629004d5d9f4a0598a3cc5bfc",
            "31955a5d677846ebaa262b968002ca2d",
            "bee3b4e13b804bfe9a323eaecfd5ea6a",
            "ba8d43a66d064d11b6a9a559e70d0277",
            "c9352478a2f044deb5822599bb0f9a97",
            "1d98d7c9914b40acb12c291800092833",
            "ea01232adddc4e0a842d3106b5b484d5",
            "dd17418d23774ed49a7b536df06c0121",
            "2bf7c081edc94f6a83fd755433f7b769",
            "f9aaaa5f20614a90ac2209e0d8002bb1",
            "26b7cbc9805e471a93c7f8a17ee8c2eb",
            "ad5aba4328bc451c9c03bd794492f531",
            "42ce057f3403417299c57b65d5f461d4",
            "20e9f7b7237f44788b9b8be944cba80c",
            "f259260d43fc470a948e139ac4a157ce",
            "35821f8d55024747927133cb1d737043",
            "36cb93b5dfc5418f873707f2380ad1f3",
            "f128278a4fc34575b84a42f78c2a7b76",
            "6a467b7f491e4d70ae55c58f028d6d4a",
            "70292690c0fa43febf63b776c7592474",
            "7c764ac0c32a42a68e6c8822cf0720c7",
            "becf01503b2f4eb89d2ff6122ca799a3",
            "7b32ebdefde842b9ae878d2efbc48e54",
            "0a44ac8e01f046dd9454dba21119b547",
            "655ef95a78e84598928ee81ef8ad34f2",
            "3a7819233e3c49fab99ee73c8733c424",
            "e5ed9ccf425d4ffbb90d788434a38239",
            "4b4e043bd26241cfb0f8ba90ab2b9782",
            "2a3ef9f304fc4418a22951dc94d8c1b2",
            "b7b4134703504a44a0ac7dd1be28b7b8",
            "20c27d2efa0c4255aad9eb29fa823540",
            "411078694212442cb4843fcaacbb4d8f",
            "85902b677fd44fc7a13434c04a3c5798",
            "b07f57d99405488da97fc624f98d67a1",
            "a81f30d1876540d998be10930eee299e",
            "d127593275e7415caf9e1bd2ffd92525",
            "e6c419aab6884631aa4bec834202bdea",
            "3ba6f8e7c3c24db780660f9ff107ff3f",
            "c9cfd0178704445192d3f72099aed7f7",
            "c47b2fb233474155b09101a088948d58",
            "8ba739f20a2e48faaa79f41877b12de4",
            "4ea486559ccb4db4a4c554db92df975e",
            "fb736c953acd445696a107e00f1f7fde",
            "fdce3bb893f44c8dab61f22d38de6382",
            "4cfbc2eb48894208b5f2597a19a910ef",
            "c7940bb063534a42a9afd8209195219f",
            "9229f5d1962a43a7b328ed346461c89c",
            "75db2fa19a7d47c0aae7d7eb0fa26280",
            "d6a6d96a782c4e9a972acba62bf140e0",
            "ac9adf8dfb1c4e8c8975faee18f90231",
            "d11b24d39d074d17b11229b41c79d50d",
            "cb4a8ae172f141a3924439f5e9682a6f",
            "edc355450dad48f0b576107697e7e6ef",
            "3305cec0e96c47549b2e6ec430432851",
            "138b1082d8c34979a293b9e85502f46e",
            "8434955e0ccc4788ac13a9bff0e71dfa",
            "07935640bd5f4f0bb8b1963d30c762e8",
            "69de0effd3d94bbca1b260ffb43a26e4",
            "5111015da151411eab7999d0064032d2",
            "7c93c9e8b5ba4975b2d519d3e4c366cd",
            "c9395bd4d3f6440da2d907a7caf8476c",
            "ed6d1c2301474d01822d861fd7388d92",
            "1cdfe7ac272440e2a851423f2c5efcde",
            "157ecae34c2e47038d3849659a6abbcd",
            "5acb4118534c4eaebda182bede0d060b",
            "7569407456b94b3f8661d7ffd67e205e",
            "cad145b4b55d4d77a343b726027b66a8",
            "a8ce4c866eb74218887218101c9a1f98",
            "86c85902e9ed426eb4130277313a2e61",
            "8659205845a7430d893704d89d6dce29",
            "1e52e515c76f4e84887c6fcdbe6d533d",
            "ea7458d493db49a59032c75f860275dd",
            "8c7edc35956846c8bcc4f89feeb30ef0",
            "c15fe9a76c3f42beba847d8e7010c730",
            "5f1d212110574a389dc43fda2df88f1c",
            "e59a476856d0427b8bc426753cee7d63",
            "87e9c75c5ffb48bbb87ff563a606dc2a",
            "a9b32031145a49deae45d82ecbf2fa21",
            "6fd0ceb0483c4a99a2f615aad9f49450",
            "f652cc7fc7444d3285b2b88494dde845",
            "6e2bc1a6f9654f4fa54ef51fa48ec941",
            "e6c1805eab8248f1866eeae82220feef",
            "39d98e95d09e4a5a8da944519f0436c6",
            "9d5447e6a055418a816035e2dbf14595",
            "6dbb692492d94bdc93b138705e0d23b6",
            "7195c6120c424e6182ee0d55ef55cec7",
            "3e94220783ae4c5da94ff60f33310c18",
            "8d16e41fc27947f8bd5e7b74633422cc",
            "5ae1b1ba27c0431a930388de291ac739",
            "2c5a4c9dc2e948b483f140e3bd19af6e",
            "ae102085f1294314a8903d18023ed11a",
            "22b1d79b3e1e42bb961f27b6538a2515",
            "0244db74964749b789246620fa06160e",
            "67b02d29f7864c2aac1d3c6d9d80c13c",
            "3efcd7076450407aa37b550fee875939",
            "f16435b9dee1487ca9621ca0a2a74d2b",
            "7ec1c4a0b5294208a655632827734b6b"
          ]
        },
        "id": "Wk_mlCikZ_fk",
        "executionInfo": {
          "status": "ok",
          "timestamp": 1715058967545,
          "user_tz": 180,
          "elapsed": 21098,
          "user": {
            "displayName": "Enrico Ferraz",
            "userId": "15178631077992699920"
          }
        },
        "outputId": "19ae2caa-6cdf-4538-91cf-c09bf12f3821"
      },
      "execution_count": 6,
      "outputs": [
        {
          "output_type": "stream",
          "name": "stderr",
          "text": [
            "/usr/local/lib/python3.10/dist-packages/huggingface_hub/utils/_token.py:88: UserWarning: \n",
            "The secret `HF_TOKEN` does not exist in your Colab secrets.\n",
            "To authenticate with the Hugging Face Hub, create a token in your settings tab (https://huggingface.co/settings/tokens), set it as secret in your Google Colab and restart your session.\n",
            "You will be able to reuse this secret in all of your notebooks.\n",
            "Please note that authentication is recommended but still optional to access public models or datasets.\n",
            "  warnings.warn(\n"
          ]
        },
        {
          "output_type": "display_data",
          "data": {
            "text/plain": [
              ".gitattributes:   0%|          | 0.00/1.48k [00:00<?, ?B/s]"
            ],
            "application/vnd.jupyter.widget-view+json": {
              "version_major": 2,
              "version_minor": 0,
              "model_id": "9d903eea1ead4e9ab89e5bbb8847fbc7"
            }
          },
          "metadata": {}
        },
        {
          "output_type": "display_data",
          "data": {
            "text/plain": [
              "1_Pooling/config.json:   0%|          | 0.00/270 [00:00<?, ?B/s]"
            ],
            "application/vnd.jupyter.widget-view+json": {
              "version_major": 2,
              "version_minor": 0,
              "model_id": "b702517bf7934236b379980897689c12"
            }
          },
          "metadata": {}
        },
        {
          "output_type": "display_data",
          "data": {
            "text/plain": [
              "2_Dense/config.json:   0%|          | 0.00/116 [00:00<?, ?B/s]"
            ],
            "application/vnd.jupyter.widget-view+json": {
              "version_major": 2,
              "version_minor": 0,
              "model_id": "11eee28ac84c466d9b8699ee27a4e7c1"
            }
          },
          "metadata": {}
        },
        {
          "output_type": "display_data",
          "data": {
            "text/plain": [
              "pytorch_model.bin:   0%|          | 0.00/3.15M [00:00<?, ?B/s]"
            ],
            "application/vnd.jupyter.widget-view+json": {
              "version_major": 2,
              "version_minor": 0,
              "model_id": "662056e552a94979ab5659f3eef98109"
            }
          },
          "metadata": {}
        },
        {
          "output_type": "display_data",
          "data": {
            "text/plain": [
              "README.md:   0%|          | 0.00/66.3k [00:00<?, ?B/s]"
            ],
            "application/vnd.jupyter.widget-view+json": {
              "version_major": 2,
              "version_minor": 0,
              "model_id": "595b1a7338e14903a0a768aff4e7b600"
            }
          },
          "metadata": {}
        },
        {
          "output_type": "display_data",
          "data": {
            "text/plain": [
              "config.json:   0%|          | 0.00/1.52k [00:00<?, ?B/s]"
            ],
            "application/vnd.jupyter.widget-view+json": {
              "version_major": 2,
              "version_minor": 0,
              "model_id": "cab0252c70c94b8aaf83a7c761cd2a4d"
            }
          },
          "metadata": {}
        },
        {
          "output_type": "display_data",
          "data": {
            "text/plain": [
              "config_sentence_transformers.json:   0%|          | 0.00/122 [00:00<?, ?B/s]"
            ],
            "application/vnd.jupyter.widget-view+json": {
              "version_major": 2,
              "version_minor": 0,
              "model_id": "f9aaaa5f20614a90ac2209e0d8002bb1"
            }
          },
          "metadata": {}
        },
        {
          "output_type": "display_data",
          "data": {
            "text/plain": [
              "pytorch_model.bin:   0%|          | 0.00/4.96G [00:00<?, ?B/s]"
            ],
            "application/vnd.jupyter.widget-view+json": {
              "version_major": 2,
              "version_minor": 0,
              "model_id": "7c764ac0c32a42a68e6c8822cf0720c7"
            }
          },
          "metadata": {}
        },
        {
          "output_type": "display_data",
          "data": {
            "text/plain": [
              "sentence_bert_config.json:   0%|          | 0.00/53.0 [00:00<?, ?B/s]"
            ],
            "application/vnd.jupyter.widget-view+json": {
              "version_major": 2,
              "version_minor": 0,
              "model_id": "411078694212442cb4843fcaacbb4d8f"
            }
          },
          "metadata": {}
        },
        {
          "output_type": "display_data",
          "data": {
            "text/plain": [
              "special_tokens_map.json:   0%|          | 0.00/2.20k [00:00<?, ?B/s]"
            ],
            "application/vnd.jupyter.widget-view+json": {
              "version_major": 2,
              "version_minor": 0,
              "model_id": "fb736c953acd445696a107e00f1f7fde"
            }
          },
          "metadata": {}
        },
        {
          "output_type": "display_data",
          "data": {
            "text/plain": [
              "spiece.model:   0%|          | 0.00/792k [00:00<?, ?B/s]"
            ],
            "application/vnd.jupyter.widget-view+json": {
              "version_major": 2,
              "version_minor": 0,
              "model_id": "3305cec0e96c47549b2e6ec430432851"
            }
          },
          "metadata": {}
        },
        {
          "output_type": "display_data",
          "data": {
            "text/plain": [
              "tokenizer.json:   0%|          | 0.00/2.42M [00:00<?, ?B/s]"
            ],
            "application/vnd.jupyter.widget-view+json": {
              "version_major": 2,
              "version_minor": 0,
              "model_id": "5acb4118534c4eaebda182bede0d060b"
            }
          },
          "metadata": {}
        },
        {
          "output_type": "display_data",
          "data": {
            "text/plain": [
              "tokenizer_config.json:   0%|          | 0.00/2.40k [00:00<?, ?B/s]"
            ],
            "application/vnd.jupyter.widget-view+json": {
              "version_major": 2,
              "version_minor": 0,
              "model_id": "e59a476856d0427b8bc426753cee7d63"
            }
          },
          "metadata": {}
        },
        {
          "output_type": "display_data",
          "data": {
            "text/plain": [
              "modules.json:   0%|          | 0.00/461 [00:00<?, ?B/s]"
            ],
            "application/vnd.jupyter.widget-view+json": {
              "version_major": 2,
              "version_minor": 0,
              "model_id": "3e94220783ae4c5da94ff60f33310c18"
            }
          },
          "metadata": {}
        },
        {
          "output_type": "stream",
          "name": "stdout",
          "text": [
            "load INSTRUCTOR_Transformer\n",
            "max_seq_length  512\n"
          ]
        }
      ]
    },
    {
      "cell_type": "code",
      "source": [
        "# Embed and store the texts\n",
        "# Supplying a persist_directory will store the embeddings on disk\n",
        "persist_directory = '/content/drive/MyDrive/Colab Notebooks/fine-tuning-fiap/Aula 03 - RAG para documentos/db'\n",
        "\n",
        "## Here is the nmew embeddings being used\n",
        "embedding = instructor_embeddings\n",
        "\n",
        "#vectordb = Chroma.from_texts([], embedding=embedding, persist_directory=persist_directory)\n",
        "contents = [item.page_content for item in data]\n",
        "sources = [{'source_info': item.metadata['link']} for item in data]\n",
        "\n",
        "# Initialize Chroma without specifying texts initially\n",
        "vectordb = Chroma.from_texts(contents, embedding, metadatas = sources, persist_directory=persist_directory)\n",
        "\n",
        "vectordb.persist()"
      ],
      "metadata": {
        "id": "ixUbOjsmSzlj",
        "executionInfo": {
          "status": "ok",
          "timestamp": 1715059010882,
          "user_tz": 180,
          "elapsed": 36356,
          "user": {
            "displayName": "Enrico Ferraz",
            "userId": "15178631077992699920"
          }
        },
        "colab": {
          "base_uri": "https://localhost:8080/"
        },
        "outputId": "8267b291-ac39-4d22-bb85-1b21516381b8"
      },
      "execution_count": 7,
      "outputs": [
        {
          "output_type": "stream",
          "name": "stderr",
          "text": [
            "/usr/local/lib/python3.10/dist-packages/langchain_core/_api/deprecation.py:119: LangChainDeprecationWarning: Since Chroma 0.4.x the manual persistence method is no longer supported as docs are automatically persisted.\n",
            "  warn_deprecated(\n"
          ]
        }
      ]
    },
    {
      "cell_type": "code",
      "source": [
        "#Declaração do modelo de embedding\n",
        "instructor_embeddings = HuggingFaceInstructEmbeddings(model_name=\"hkunlp/instructor-xl\")\n",
        "persist_directory = '/content/drive/MyDrive/Colab Notebooks/fine-tuning-fiap/Aula 03 - RAG para documentos/db'\n",
        "embedding = instructor_embeddings\n",
        "\n",
        "#Criação do objeto de gestão da vector db\n",
        "vectordb = Chroma(embedding_function=embedding, persist_directory=persist_directory)\n",
        "\n",
        "retriever = vectordb.as_retriever()\n",
        "query = input(\"The first question:  \")\n",
        "#Retorna os 3 primeiros itens relevantes para a pergunta do usuário\n",
        "context = retriever.get_relevant_documents(query)[:1]"
      ],
      "metadata": {
        "colab": {
          "base_uri": "https://localhost:8080/"
        },
        "id": "3WSCo3B68-yG",
        "executionInfo": {
          "status": "ok",
          "timestamp": 1715059031247,
          "user_tz": 180,
          "elapsed": 7174,
          "user": {
            "displayName": "Enrico Ferraz",
            "userId": "15178631077992699920"
          }
        },
        "outputId": "a978a474-8209-4d0c-b2b5-402362e5821a"
      },
      "execution_count": 8,
      "outputs": [
        {
          "name": "stdout",
          "output_type": "stream",
          "text": [
            "load INSTRUCTOR_Transformer\n",
            "max_seq_length  512\n",
            "The first question:  where in brazil there was a recent flood?\n"
          ]
        },
        {
          "output_type": "stream",
          "name": "stderr",
          "text": [
            "/usr/local/lib/python3.10/dist-packages/langchain_core/_api/deprecation.py:119: LangChainDeprecationWarning: The method `BaseRetriever.get_relevant_documents` was deprecated in langchain-core 0.1.46 and will be removed in 0.3.0. Use invoke instead.\n",
            "  warn_deprecated(\n"
          ]
        }
      ]
    },
    {
      "cell_type": "code",
      "source": [
        "context"
      ],
      "metadata": {
        "colab": {
          "base_uri": "https://localhost:8080/"
        },
        "id": "bSXgXJ0pBDLR",
        "executionInfo": {
          "status": "ok",
          "timestamp": 1715059034746,
          "user_tz": 180,
          "elapsed": 379,
          "user": {
            "displayName": "Enrico Ferraz",
            "userId": "15178631077992699920"
          }
        },
        "outputId": "2520a4ef-fc0c-4ade-b3f8-55b6724b5dc5"
      },
      "execution_count": 9,
      "outputs": [
        {
          "output_type": "execute_result",
          "data": {
            "text/plain": [
              "[Document(page_content='CNN —\\n\\nAt least 57 people have been killed and a further 373 are missing as heavy rain and flooding hit the Brazilian state of Rio Grande do Sul this week.\\n\\nAt least 74 others have been injured amid the series of catastrophic floods that has affected 281 municipalities, according to the latest figures shared by the civil defense Saturday.\\n\\nThe local government has declared a state of calamity in areas where more than 67,000 people are impacted. Almost 10,000 have been displaced and more than 4,500 are in temporary shelters, the civil defense said.\\n\\nAuthorities are closely monitoring dams that are not designed to handle such a high volume of water but said there is no imminent risk of failure.\\n\\nView of a flooded house at the Sarandi neighborhood in Porto Alegre, Rio Grande do Sul state, Brazil on May 3, 2024. Anselmo Cunha/AFP/Getty Images\\n\\nBrazilian President Luiz Inácio Lula da Silva met with local officials overseeing the relief efforts Thursday.\\n\\n“We are witnessing a historic disaster, unfortunately,” said the state’s governor, Eduardo Leite. “The material losses are gigantic, but our focus at this moment is rescues. There are still people waiting for help.”\\n\\nImages showed muddy brown waters rising as high as rooftops in some areas, while rescue teams were out with inflatable rafts, taking people and pets on board.\\n\\nOn Saturday morning, the water level in the Guaíba Lake grew five meters due to intense rains, threatening the state’s capital Porto Alegre, authorities said.\\n\\nThe Brazil Foundation, in cooperation with the Brazilian supermodel Gisele Bundchen, has set up a fund to help victims of the floods.\\n\\nRio Grande do Sul has been increasingly hit by extreme weather events in recent years. At least 54 people died in the state in September after it endured a sub-tropical cyclone. This year’s death toll has already surpassed that record.\\n\\nThe climate crisis, caused primarily by humans burning fossil fuels, is supercharging extreme weather around the world, making many events more intense and more frequent.\\n\\nVolunteers use a fishing boat to rescue residents trapped inside their houses in São Sebastião do Cai, Rio Grande do Sul state. Anselmo Cunha/AFP/Getty Images\\n\\nIn the past few weeks alone, record rainfall has triggered deadly floods and brought chaos to the desert city of Dubai; reservoirs across Southeast Asia have been drying up in a persistent regional heatwave and ongoing drought, while Kenya is battling floods and heavy rainfall that has burst river banks and killed nearly 200 people.\\n\\nLast year was the hottest on record, with air and ocean temperatures climbing beyond many scientists’ predictions. The world is already 1.2 degrees Celsius warmer than it was in pre-industrial times.\\n\\nThe proportion of high-intensity hurricanes, or tropical cyclones, has increased due to the warmer global temperatures, according to the UN. Heat waves are becoming more frequent and are lasting longer.\\n\\nA drone view shows vehicles affected by the floods in Encantado, Rio Grande do Sul state, Brazil, May 3, 2024. Diego Vara/Reuters\\n\\nScientists have also found that the storms are more likely to stall and lead to devastating rainfall and they last longer after making landfall.\\n\\nLizzy Yee, Julia Vargas Jones and Omar Fajardo also contributed to this report.', metadata={'source_info': 'https://www.cnn.com/2024/05/03/weather/brazil-rain-floods-intl/index.html'})]"
            ]
          },
          "metadata": {},
          "execution_count": 9
        }
      ]
    }
  ]
}